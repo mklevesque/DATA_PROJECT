{
 "cells": [
  {
   "cell_type": "markdown",
   "id": "77bd9f0f-b89e-46e2-8f7b-43ba8507df8c",
   "metadata": {},
   "source": [
    "# Scra"
   ]
  },
  {
   "cell_type": "code",
   "execution_count": 29,
   "id": "fe927a2b-f268-4dfc-99a6-b693b97c2eb6",
   "metadata": {},
   "outputs": [],
   "source": [
    "from lxml import html\n",
    "import requests"
   ]
  },
  {
   "cell_type": "code",
   "execution_count": 35,
   "id": "669f3f6b-b729-4593-80bf-fe13e8002401",
   "metadata": {},
   "outputs": [],
   "source": [
    "url = 'https://www.marmiton.org/recettes/recette_oeufs-mimosa_28602.aspx'\n",
    "page = requests.get(url)\n",
    "# https://www.marmiton.org/recettes/recette_sauce-puttanesca_14929.aspx\n",
    "tree = html.fromstring(page.content)\n",
    "content = html.fromstring(page.content)"
   ]
  },
  {
   "cell_type": "code",
   "execution_count": 36,
   "id": "8bddf571-49d5-42a0-a6c0-77558867f2a5",
   "metadata": {},
   "outputs": [],
   "source": [
    "products = tree.xpath(\"//div[contains(@class, 'MuiGrid-root')]\")\n",
    "q_person = content.xpath(\"//span[contains(@class, 'SHRD__sc-w4kph7-4 hYSrSW')]\")"
   ]
  },
  {
   "cell_type": "code",
   "execution_count": 42,
   "id": "d268fd63-26c9-41c5-94b9-428e0fdca90b",
   "metadata": {},
   "outputs": [
    {
     "name": "stdout",
     "output_type": "stream",
     "text": [
      "Ingrédients : \n",
      "\n",
      "- poivre \n",
      "- sel \n",
      "- persil haché1 c.à.c de moutarde 1⁄4 l d'huile  jus de citron (facultatif)4 oeufs (suivant l'appétit)1 petit bol de mayonnaise   de laitue  olives noires pour décorer les oeufs (facultatif)1 jaune d'oeuf \n",
      "- persil haché\n",
      "-1 c.à.c de moutarde \n",
      "-1⁄4 l d'huile \n",
      "- jus de citron (facultatif)\n",
      "-4 oeufs (suivant l'appétit)\n",
      "-1 petit bol de mayonnaise \n",
      "-  de laitue \n",
      "- olives noires pour décorer les oeufs (facultatif)\n",
      "-1 jaune d'oeuf \n",
      "\n",
      "\n",
      "Nombre de personnes : <Element span at 0x201511abe00>\n"
     ]
    }
   ],
   "source": [
    "print(\"Ingrédients : \\n\")\n",
    "for product in products[1:]:\n",
    "    print('-' + product.text_content())\n",
    "    \n",
    "print(\"\\n\\nNombre de personnes : \" + str(q_person[0]))"
   ]
  },
  {
   "cell_type": "code",
   "execution_count": null,
   "id": "ec0bb31d-4360-4ccf-b81f-2f6b71449fcc",
   "metadata": {},
   "outputs": [],
   "source": []
  },
  {
   "cell_type": "code",
   "execution_count": null,
   "id": "46783967",
   "metadata": {},
   "outputs": [],
   "source": []
  }
 ],
 "metadata": {
  "kernelspec": {
   "display_name": "Python 3",
   "language": "python",
   "name": "python3"
  },
  "language_info": {
   "codemirror_mode": {
    "name": "ipython",
    "version": 3
   },
   "file_extension": ".py",
   "mimetype": "text/x-python",
   "name": "python",
   "nbconvert_exporter": "python",
   "pygments_lexer": "ipython3",
   "version": "3.8.8"
  }
 },
 "nbformat": 4,
 "nbformat_minor": 5
}
