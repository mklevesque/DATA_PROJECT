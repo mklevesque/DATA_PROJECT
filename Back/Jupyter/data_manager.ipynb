{
 "cells": [
  {
   "cell_type": "markdown",
   "id": "458cff57",
   "metadata": {},
   "source": [
    "# Projet Data\n",
    "\n",
    "## Nicolas, Georges et Michael\n",
    "    "
   ]
  },
  {
   "cell_type": "code",
   "execution_count": 1,
   "id": "5b948469",
   "metadata": {},
   "outputs": [],
   "source": [
    "from pandas import read_excel\n",
    "# Importing necessary library\n",
    "import pandas as pd\n",
    "import numpy as np\n",
    "import nltk\n",
    "import os\n",
    "import nltk.corpus# sample text for performing tokenization\n",
    "from lxml import html\n",
    "import requests\n",
    "from nltk.tokenize import word_tokenize# Passing the string text into word tokenize for breaking the sentences\n",
    "from nltk.corpus import stopwords\n",
    "from nltk.tokenize import RegexpTokenizer\n",
    "from nltk.stem.snowball import FrenchStemmer\n",
    "import unidecode\n",
    "# faut lancer ca la premiere fois -> nltk.download()"
   ]
  },
  {
   "cell_type": "markdown",
   "id": "f1cb0036",
   "metadata": {},
   "source": [
    "## <font color = \"darkgreen\">1- Chargement des jeux de données</font>"
   ]
  },
  {
   "cell_type": "code",
   "execution_count": 2,
   "id": "4425269b",
   "metadata": {},
   "outputs": [],
   "source": [
    "df_data = pd.read_excel(\"Data/Table_Ciqual_2020_FR_2020_07_07.xls\")"
   ]
  },
  {
   "cell_type": "markdown",
   "id": "024cd924",
   "metadata": {},
   "source": [
    "## <font color = \"darkgreen\">2- Analyse la bdd </font>"
   ]
  },
  {
   "cell_type": "markdown",
   "id": "65f6e874",
   "metadata": {},
   "source": [
    "On va analyser la BDD pour mieux la connaître et par la suite mieux la nettoyer."
   ]
  },
  {
   "cell_type": "code",
   "execution_count": 3,
   "id": "5514c751",
   "metadata": {},
   "outputs": [
    {
     "data": {
      "text/plain": [
       "Index(['alim_grp_code', 'alim_ssgrp_code', 'alim_ssssgrp_code',\n",
       "       'alim_grp_nom_fr', 'alim_ssgrp_nom_fr', 'alim_ssssgrp_nom_fr',\n",
       "       'alim_code', 'alim_nom_fr', 'alim_nom_sci',\n",
       "       'Energie, Règlement UE N° 1169/2011 (kJ/100 g)',\n",
       "       'Energie, Règlement UE N° 1169/2011 (kcal/100 g)',\n",
       "       'Energie, N x facteur Jones, avec fibres  (kJ/100 g)',\n",
       "       'Energie, N x facteur Jones, avec fibres  (kcal/100 g)',\n",
       "       'Eau (g/100 g)', 'Protéines, N x facteur de Jones (g/100 g)',\n",
       "       'Protéines, N x 6.25 (g/100 g)', 'Glucides (g/100 g)',\n",
       "       'Lipides (g/100 g)', 'Sucres (g/100 g)', 'Fructose (g/100 g)',\n",
       "       'Galactose (g/100 g)', 'Glucose (g/100 g)', 'Lactose (g/100 g)',\n",
       "       'Maltose (g/100 g)', 'Saccharose (g/100 g)', 'Amidon (g/100 g)',\n",
       "       'Fibres alimentaires (g/100 g)', 'Polyols totaux (g/100 g)',\n",
       "       'Cendres (g/100 g)', 'Alcool (g/100 g)', 'Acides organiques (g/100 g)',\n",
       "       'AG saturés (g/100 g)', 'AG monoinsaturés (g/100 g)',\n",
       "       'AG polyinsaturés (g/100 g)', 'AG 4:0, butyrique (g/100 g)',\n",
       "       'AG 6:0, caproïque (g/100 g)', 'AG 8:0, caprylique (g/100 g)',\n",
       "       'AG 10:0, caprique (g/100 g)', 'AG 12:0, laurique (g/100 g)',\n",
       "       'AG 14:0, myristique (g/100 g)', 'AG 16:0, palmitique (g/100 g)',\n",
       "       'AG 18:0, stéarique (g/100 g)', 'AG 18:1 9c (n-9), oléique (g/100 g)',\n",
       "       'AG 18:2 9c,12c (n-6), linoléique (g/100 g)',\n",
       "       'AG 18:3 c9,c12,c15 (n-3), alpha-linolénique (g/100 g)',\n",
       "       'AG 20:4 5c,8c,11c,14c (n-6), arachidonique (g/100 g)',\n",
       "       'AG 20:5 5c,8c,11c,14c,17c (n-3) EPA (g/100 g)',\n",
       "       'AG 22:6 4c,7c,10c,13c,16c,19c (n-3) DHA (g/100 g)',\n",
       "       'Cholestérol (mg/100 g)', 'Sel chlorure de sodium (g/100 g)',\n",
       "       'Calcium (mg/100 g)', 'Chlorure (mg/100 g)', 'Cuivre (mg/100 g)',\n",
       "       'Fer (mg/100 g)', 'Iode (µg/100 g)', 'Magnésium (mg/100 g)',\n",
       "       'Manganèse (mg/100 g)', 'Phosphore (mg/100 g)', 'Potassium (mg/100 g)',\n",
       "       'Sélénium (µg/100 g)', 'Sodium (mg/100 g)', 'Zinc (mg/100 g)',\n",
       "       'Rétinol (µg/100 g)', 'Beta-Carotène (µg/100 g)',\n",
       "       'Vitamine D (µg/100 g)', 'Vitamine E (mg/100 g)',\n",
       "       'Vitamine K1 (µg/100 g)', 'Vitamine K2 (µg/100 g)',\n",
       "       'Vitamine C (mg/100 g)', 'Vitamine B1 ou Thiamine (mg/100 g)',\n",
       "       'Vitamine B2 ou Riboflavine (mg/100 g)',\n",
       "       'Vitamine B3 ou PP ou Niacine (mg/100 g)',\n",
       "       'Vitamine B5 ou Acide pantothénique (mg/100 g)',\n",
       "       'Vitamine B6 (mg/100 g)', 'Vitamine B9 ou Folates totaux (µg/100 g)',\n",
       "       'Vitamine B12 (µg/100 g)'],\n",
       "      dtype='object')"
      ]
     },
     "execution_count": 3,
     "metadata": {},
     "output_type": "execute_result"
    }
   ],
   "source": [
    "#On regarde toute les colonnes du DataFrame\n",
    "df_data.columns"
   ]
  },
  {
   "cell_type": "code",
   "execution_count": 4,
   "id": "f7a6d24d",
   "metadata": {},
   "outputs": [],
   "source": [
    "#On garde que les colonne qui nous intéresse pour faire notre 'nutri-score'\n",
    "df_propre = df_data.copy().drop(['alim_grp_code','alim_ssgrp_code','alim_ssssgrp_code','alim_ssssgrp_nom_fr','alim_ssgrp_code','alim_nom_sci', \n",
    "       'Energie, Règlement UE N° 1169/2011 (kJ/100 g)','Energie, N x facteur Jones, avec fibres  (kJ/100 g)',\n",
    "       'Energie, N x facteur Jones, avec fibres  (kcal/100 g)',\n",
    "       'Eau (g/100 g)', 'Protéines, N x facteur de Jones (g/100 g)', 'Fructose (g/100 g)',\n",
    "       'Galactose (g/100 g)', 'Glucose (g/100 g)', 'Lactose (g/100 g)',\n",
    "       'Maltose (g/100 g)', 'Saccharose (g/100 g)', 'Amidon (g/100 g)',\n",
    "       'Fibres alimentaires (g/100 g)', 'Polyols totaux (g/100 g)',\n",
    "       'Cendres (g/100 g)', 'Alcool (g/100 g)', 'Acides organiques (g/100 g)', 'AG monoinsaturés (g/100 g)',\n",
    "       'AG polyinsaturés (g/100 g)', 'AG 4:0, butyrique (g/100 g)',\n",
    "       'AG 6:0, caproïque (g/100 g)', 'AG 8:0, caprylique (g/100 g)',\n",
    "       'AG 10:0, caprique (g/100 g)', 'AG 12:0, laurique (g/100 g)',\n",
    "       'AG 14:0, myristique (g/100 g)', 'AG 16:0, palmitique (g/100 g)',\n",
    "       'AG 18:0, stéarique (g/100 g)', 'AG 18:1 9c (n-9), oléique (g/100 g)',\n",
    "       'AG 18:2 9c,12c (n-6), linoléique (g/100 g)',\n",
    "       'AG 18:3 c9,c12,c15 (n-3), alpha-linolénique (g/100 g)',\n",
    "       'AG 20:4 5c,8c,11c,14c (n-6), arachidonique (g/100 g)',\n",
    "       'AG 20:5 5c,8c,11c,14c,17c (n-3) EPA (g/100 g)',\n",
    "       'AG 22:6 4c,7c,10c,13c,16c,19c (n-3) DHA (g/100 g)',\n",
    "       'Cholestérol (mg/100 g)', 'Sel chlorure de sodium (g/100 g)',\n",
    "       'Calcium (mg/100 g)', 'Chlorure (mg/100 g)', 'Cuivre (mg/100 g)',\n",
    "       'Fer (mg/100 g)', 'Iode (µg/100 g)', 'Magnésium (mg/100 g)',\n",
    "       'Manganèse (mg/100 g)', 'Phosphore (mg/100 g)', 'Potassium (mg/100 g)',\n",
    "       'Sélénium (µg/100 g)', 'Sodium (mg/100 g)', 'Zinc (mg/100 g)',\n",
    "       'Rétinol (µg/100 g)', 'Beta-Carotène (µg/100 g)',\n",
    "       'Vitamine D (µg/100 g)', 'Vitamine E (mg/100 g)',\n",
    "       'Vitamine K1 (µg/100 g)', 'Vitamine K2 (µg/100 g)',\n",
    "       'Vitamine C (mg/100 g)', 'Vitamine B1 ou Thiamine (mg/100 g)',\n",
    "       'Vitamine B2 ou Riboflavine (mg/100 g)',\n",
    "       'Vitamine B3 ou PP ou Niacine (mg/100 g)',\n",
    "       'Vitamine B5 ou Acide pantothénique (mg/100 g)',\n",
    "       'Vitamine B6 (mg/100 g)', 'Vitamine B9 ou Folates totaux (µg/100 g)',\n",
    "       'Vitamine B12 (µg/100 g)'], axis = 1)"
   ]
  },
  {
   "cell_type": "code",
   "execution_count": 5,
   "id": "ae1550f9",
   "metadata": {},
   "outputs": [],
   "source": [
    "#On change les noms des colonnes pour qu'ils soient plus simple\n",
    "df_propre.columns = ['alim_grp_nom_fr', 'alim_ssgrp_nom_fr', 'alim_code', 'alim_nom_fr', 'Kcal/100 g', 'Protéines/100 g', 'Glucides/100 g', 'Lipides/100 g' ,'Sucres/100 g','AG saturés/100 g']"
   ]
  },
  {
   "cell_type": "code",
   "execution_count": 320,
   "id": "7ac44d47",
   "metadata": {},
   "outputs": [
    {
     "data": {
      "text/html": [
       "<div>\n",
       "<style scoped>\n",
       "    .dataframe tbody tr th:only-of-type {\n",
       "        vertical-align: middle;\n",
       "    }\n",
       "\n",
       "    .dataframe tbody tr th {\n",
       "        vertical-align: top;\n",
       "    }\n",
       "\n",
       "    .dataframe thead th {\n",
       "        text-align: right;\n",
       "    }\n",
       "</style>\n",
       "<table border=\"1\" class=\"dataframe\">\n",
       "  <thead>\n",
       "    <tr style=\"text-align: right;\">\n",
       "      <th></th>\n",
       "      <th>alim_grp_nom_fr</th>\n",
       "      <th>alim_ssgrp_nom_fr</th>\n",
       "      <th>alim_code</th>\n",
       "      <th>alim_nom_fr</th>\n",
       "      <th>Kcal/100 g</th>\n",
       "      <th>Protéines/100 g</th>\n",
       "      <th>Glucides/100 g</th>\n",
       "      <th>Lipides/100 g</th>\n",
       "      <th>Sucres/100 g</th>\n",
       "      <th>AG saturés/100 g</th>\n",
       "    </tr>\n",
       "  </thead>\n",
       "  <tbody>\n",
       "    <tr>\n",
       "      <th>42</th>\n",
       "      <td>entrées et plats composés</td>\n",
       "      <td>soup</td>\n",
       "      <td>25930</td>\n",
       "      <td>bouillon boeuf deshydrat reconstitu</td>\n",
       "      <td>9.05</td>\n",
       "      <td>0.60</td>\n",
       "      <td>1.33</td>\n",
       "      <td>0.15</td>\n",
       "      <td>0.33</td>\n",
       "      <td>0.057</td>\n",
       "    </tr>\n",
       "    <tr>\n",
       "      <th>416</th>\n",
       "      <td>fruits, légumes, légumineuses et oléagineux</td>\n",
       "      <td>legum</td>\n",
       "      <td>20192</td>\n",
       "      <td>tomat cotel coeur boeuf cru</td>\n",
       "      <td>19.80</td>\n",
       "      <td>0.50</td>\n",
       "      <td>3.23</td>\n",
       "      <td>0.50</td>\n",
       "      <td>2.80</td>\n",
       "      <td>0.010</td>\n",
       "    </tr>\n",
       "    <tr>\n",
       "      <th>971</th>\n",
       "      <td>produits céréaliers</td>\n",
       "      <td>pat riz cereal</td>\n",
       "      <td>9822</td>\n",
       "      <td>pat sech oeuf cuit non sal</td>\n",
       "      <td>134.00</td>\n",
       "      <td>4.94</td>\n",
       "      <td>23.00</td>\n",
       "      <td>2.00</td>\n",
       "      <td>0.80</td>\n",
       "      <td>0.340</td>\n",
       "    </tr>\n",
       "    <tr>\n",
       "      <th>1013</th>\n",
       "      <td>produits céréaliers</td>\n",
       "      <td>pat riz cereal</td>\n",
       "      <td>9815</td>\n",
       "      <td>pat fraich oeuf cru</td>\n",
       "      <td>283.00</td>\n",
       "      <td>11.10</td>\n",
       "      <td>53.80</td>\n",
       "      <td>1.87</td>\n",
       "      <td>2.54</td>\n",
       "      <td>0.490</td>\n",
       "    </tr>\n",
       "    <tr>\n",
       "      <th>1014</th>\n",
       "      <td>produits céréaliers</td>\n",
       "      <td>pat riz cereal</td>\n",
       "      <td>9821</td>\n",
       "      <td>pat sech oeuf cru</td>\n",
       "      <td>381.00</td>\n",
       "      <td>15.20</td>\n",
       "      <td>68.00</td>\n",
       "      <td>4.72</td>\n",
       "      <td>2.19</td>\n",
       "      <td>1.340</td>\n",
       "    </tr>\n",
       "    <tr>\n",
       "      <th>...</th>\n",
       "      <td>...</td>\n",
       "      <td>...</td>\n",
       "      <td>...</td>\n",
       "      <td>...</td>\n",
       "      <td>...</td>\n",
       "      <td>...</td>\n",
       "      <td>...</td>\n",
       "      <td>...</td>\n",
       "      <td>...</td>\n",
       "      <td>...</td>\n",
       "    </tr>\n",
       "    <tr>\n",
       "      <th>1916</th>\n",
       "      <td>viandes, œufs, poissons et assimilés</td>\n",
       "      <td>oeuf</td>\n",
       "      <td>22013</td>\n",
       "      <td>oeuf poudr</td>\n",
       "      <td>582.00</td>\n",
       "      <td>47.90</td>\n",
       "      <td>3.11</td>\n",
       "      <td>42.00</td>\n",
       "      <td>0.30</td>\n",
       "      <td>13.100</td>\n",
       "    </tr>\n",
       "    <tr>\n",
       "      <th>2034</th>\n",
       "      <td>produits laitiers et assimilés</td>\n",
       "      <td>produit lait frais assimil</td>\n",
       "      <td>19674</td>\n",
       "      <td>flan oeuf rayon frais</td>\n",
       "      <td>111.00</td>\n",
       "      <td>4.00</td>\n",
       "      <td>18.50</td>\n",
       "      <td>2.20</td>\n",
       "      <td>16.00</td>\n",
       "      <td>1.200</td>\n",
       "    </tr>\n",
       "    <tr>\n",
       "      <th>2047</th>\n",
       "      <td>produits laitiers et assimilés</td>\n",
       "      <td>produit lait frais assimil</td>\n",
       "      <td>39211</td>\n",
       "      <td>crem oeuf pet pot crem chocolat vanill etc ray...</td>\n",
       "      <td>176.00</td>\n",
       "      <td>4.23</td>\n",
       "      <td>19.40</td>\n",
       "      <td>8.88</td>\n",
       "      <td>16.40</td>\n",
       "      <td>5.230</td>\n",
       "    </tr>\n",
       "    <tr>\n",
       "      <th>2511</th>\n",
       "      <td>eaux et autres boissons</td>\n",
       "      <td>boisson alcool</td>\n",
       "      <td>1016</td>\n",
       "      <td>marsal oeuf</td>\n",
       "      <td>153.00</td>\n",
       "      <td>0.00</td>\n",
       "      <td>12.40</td>\n",
       "      <td>0.00</td>\n",
       "      <td>12.40</td>\n",
       "      <td>0.000</td>\n",
       "    </tr>\n",
       "    <tr>\n",
       "      <th>3027</th>\n",
       "      <td>aides culinaires et ingrédients divers</td>\n",
       "      <td>aid culinair</td>\n",
       "      <td>11001</td>\n",
       "      <td>bouillon boeuf deshydrat</td>\n",
       "      <td>240.00</td>\n",
       "      <td>10.20</td>\n",
       "      <td>19.70</td>\n",
       "      <td>13.30</td>\n",
       "      <td>3.95</td>\n",
       "      <td>7.030</td>\n",
       "    </tr>\n",
       "  </tbody>\n",
       "</table>\n",
       "<p>73 rows × 10 columns</p>\n",
       "</div>"
      ],
      "text/plain": [
       "                                  alim_grp_nom_fr           alim_ssgrp_nom_fr  \\\n",
       "42                      entrées et plats composés                        soup   \n",
       "416   fruits, légumes, légumineuses et oléagineux                       legum   \n",
       "971                           produits céréaliers              pat riz cereal   \n",
       "1013                          produits céréaliers              pat riz cereal   \n",
       "1014                          produits céréaliers              pat riz cereal   \n",
       "...                                           ...                         ...   \n",
       "1916         viandes, œufs, poissons et assimilés                        oeuf   \n",
       "2034               produits laitiers et assimilés  produit lait frais assimil   \n",
       "2047               produits laitiers et assimilés  produit lait frais assimil   \n",
       "2511                      eaux et autres boissons              boisson alcool   \n",
       "3027       aides culinaires et ingrédients divers                aid culinair   \n",
       "\n",
       "      alim_code                                        alim_nom_fr  \\\n",
       "42        25930                bouillon boeuf deshydrat reconstitu   \n",
       "416       20192                        tomat cotel coeur boeuf cru   \n",
       "971        9822                         pat sech oeuf cuit non sal   \n",
       "1013       9815                                pat fraich oeuf cru   \n",
       "1014       9821                                  pat sech oeuf cru   \n",
       "...         ...                                                ...   \n",
       "1916      22013                                         oeuf poudr   \n",
       "2034      19674                              flan oeuf rayon frais   \n",
       "2047      39211  crem oeuf pet pot crem chocolat vanill etc ray...   \n",
       "2511       1016                                        marsal oeuf   \n",
       "3027      11001                           bouillon boeuf deshydrat   \n",
       "\n",
       "      Kcal/100 g  Protéines/100 g  Glucides/100 g  Lipides/100 g  \\\n",
       "42          9.05             0.60            1.33           0.15   \n",
       "416        19.80             0.50            3.23           0.50   \n",
       "971       134.00             4.94           23.00           2.00   \n",
       "1013      283.00            11.10           53.80           1.87   \n",
       "1014      381.00            15.20           68.00           4.72   \n",
       "...          ...              ...             ...            ...   \n",
       "1916      582.00            47.90            3.11          42.00   \n",
       "2034      111.00             4.00           18.50           2.20   \n",
       "2047      176.00             4.23           19.40           8.88   \n",
       "2511      153.00             0.00           12.40           0.00   \n",
       "3027      240.00            10.20           19.70          13.30   \n",
       "\n",
       "      Sucres/100 g  AG saturés/100 g  \n",
       "42            0.33             0.057  \n",
       "416           2.80             0.010  \n",
       "971           0.80             0.340  \n",
       "1013          2.54             0.490  \n",
       "1014          2.19             1.340  \n",
       "...            ...               ...  \n",
       "1916          0.30            13.100  \n",
       "2034         16.00             1.200  \n",
       "2047         16.40             5.230  \n",
       "2511         12.40             0.000  \n",
       "3027          3.95             7.030  \n",
       "\n",
       "[73 rows x 10 columns]"
      ]
     },
     "execution_count": 320,
     "metadata": {},
     "output_type": "execute_result"
    }
   ],
   "source": [
    "#On regarde comment les aliments sont écrits dans la colonne pour venir les chercher dans le DataFrame\n",
    "df_propre.loc[df_propre[\"alim_nom_fr\"].apply(lambda x: \"oeuf\" in x)]"
   ]
  },
  {
   "cell_type": "code",
   "execution_count": 7,
   "id": "b3f53480",
   "metadata": {},
   "outputs": [
    {
     "data": {
      "text/plain": [
       "viandes, œufs, poissons et assimilés           788\n",
       "fruits, légumes, légumineuses et oléagineux    614\n",
       "entrées et plats composés                      337\n",
       "produits sucrés                                306\n",
       "produits laitiers et assimilés                 301\n",
       "eaux et autres boissons                        295\n",
       "aides culinaires et ingrédients divers         212\n",
       "produits céréaliers                            145\n",
       "matières grasses                                75\n",
       "aliments infantiles                             39\n",
       "glaces et sorbets                               29\n",
       "Name: alim_grp_nom_fr, dtype: int64"
      ]
     },
     "execution_count": 7,
     "metadata": {},
     "output_type": "execute_result"
    }
   ],
   "source": [
    "#On regarde tous les groupes d'aliments qu'il y a\n",
    "df_propre['alim_grp_nom_fr'].value_counts()"
   ]
  },
  {
   "cell_type": "code",
   "execution_count": 8,
   "id": "a5655823",
   "metadata": {},
   "outputs": [
    {
     "data": {
      "text/plain": [
       "alim_grp_nom_fr      45\n",
       "alim_ssgrp_nom_fr    45\n",
       "alim_code             0\n",
       "alim_nom_fr           0\n",
       "Kcal/100 g           17\n",
       "Protéines/100 g       1\n",
       "Glucides/100 g        1\n",
       "Lipides/100 g         1\n",
       "Sucres/100 g          9\n",
       "AG saturés/100 g      5\n",
       "dtype: int64"
      ]
     },
     "execution_count": 8,
     "metadata": {},
     "output_type": "execute_result"
    }
   ],
   "source": [
    "#On regarde le nombre de 'nan' dans chaque colonne\n",
    "df_propre.isnull().sum()"
   ]
  },
  {
   "cell_type": "code",
   "execution_count": 9,
   "id": "a60ba37c",
   "metadata": {},
   "outputs": [
    {
     "name": "stdout",
     "output_type": "stream",
     "text": [
      "124\n"
     ]
    }
   ],
   "source": [
    "#On print la somme des 'nan'\n",
    "print(np.sum(df_propre.isnull().sum()))"
   ]
  },
  {
   "cell_type": "code",
   "execution_count": 10,
   "id": "77339c77",
   "metadata": {},
   "outputs": [
    {
     "data": {
      "text/plain": [
       "légumes                                              303\n",
       "charcuteries et assimilés                            173\n",
       "fruits                                               170\n",
       "viandes crues                                        162\n",
       "plats composés                                       159\n",
       "                                                    ... \n",
       "denrées destinées à une alimentation particulière      5\n",
       "céréales et biscuits infantiles                        4\n",
       "huiles de poissons                                     4\n",
       "aides culinaires et ingrédients pour végétariens       1\n",
       "-                                                      1\n",
       "Name: alim_ssgrp_nom_fr, Length: 64, dtype: int64"
      ]
     },
     "execution_count": 10,
     "metadata": {},
     "output_type": "execute_result"
    }
   ],
   "source": [
    "#On remarque que 'nan' a 43 occurences du coup nous allons les changer pour traiter la colonne par la suite\n",
    "df_propre['alim_ssgrp_nom_fr'].value_counts()"
   ]
  },
  {
   "cell_type": "markdown",
   "id": "db3c05ca",
   "metadata": {},
   "source": [
    "## <font color = \"darkgreen\">3- Nettoyage de la bdd </font>"
   ]
  },
  {
   "cell_type": "markdown",
   "id": "83637ee8",
   "metadata": {},
   "source": [
    "### <font color = \"blue\">3.1- Valeur numérique </font>"
   ]
  },
  {
   "cell_type": "markdown",
   "id": "dcbbee40",
   "metadata": {},
   "source": [
    "On va nettoyer la bdd au niveau des valeurs numériques en supprimant les Nan, '-' et '<'."
   ]
  },
  {
   "cell_type": "code",
   "execution_count": 11,
   "id": "65434fd8",
   "metadata": {},
   "outputs": [],
   "source": [
    "#On va changer toutes les valeurs 'nan' en 'rien'\n",
    "for column in df_propre['alim_ssgrp_nom_fr']:\n",
    "            df_propre['alim_ssgrp_nom_fr'] = df_propre['alim_ssgrp_nom_fr'].replace(to_replace = np.nan, value = 'rien')"
   ]
  },
  {
   "cell_type": "code",
   "execution_count": 12,
   "id": "97358cc7",
   "metadata": {},
   "outputs": [
    {
     "data": {
      "text/plain": [
       "alim_grp_nom_fr      45\n",
       "alim_ssgrp_nom_fr     0\n",
       "alim_code             0\n",
       "alim_nom_fr           0\n",
       "Kcal/100 g           17\n",
       "Protéines/100 g       1\n",
       "Glucides/100 g        1\n",
       "Lipides/100 g         1\n",
       "Sucres/100 g          9\n",
       "AG saturés/100 g      5\n",
       "dtype: int64"
      ]
     },
     "execution_count": 12,
     "metadata": {},
     "output_type": "execute_result"
    }
   ],
   "source": [
    "#alim_ssgrp_nom_fr est bien à 0\n",
    "df_propre.isnull().sum()"
   ]
  },
  {
   "cell_type": "code",
   "execution_count": 13,
   "id": "a08d1b58",
   "metadata": {},
   "outputs": [],
   "source": [
    "#On va changer toutes les valeurs '-' en 'rien' dans la colonne alim_ssgrp_nom_fr\n",
    "for column in df_propre['alim_ssgrp_nom_fr']:\n",
    "            df_propre['alim_ssgrp_nom_fr'] = df_propre['alim_ssgrp_nom_fr'].replace(['-'], ['rien'])"
   ]
  },
  {
   "cell_type": "code",
   "execution_count": 14,
   "id": "03b64fb7",
   "metadata": {},
   "outputs": [
    {
     "data": {
      "text/plain": [
       "légumes                                             303\n",
       "charcuteries et assimilés                           173\n",
       "fruits                                              170\n",
       "viandes crues                                       162\n",
       "plats composés                                      159\n",
       "                                                   ... \n",
       "desserts infantiles                                   5\n",
       "sorbets                                               5\n",
       "céréales et biscuits infantiles                       4\n",
       "huiles de poissons                                    4\n",
       "aides culinaires et ingrédients pour végétariens      1\n",
       "Name: alim_ssgrp_nom_fr, Length: 64, dtype: int64"
      ]
     },
     "execution_count": 14,
     "metadata": {},
     "output_type": "execute_result"
    }
   ],
   "source": [
    "#On remarque qu'il y a plus de 'nan' et de '-', ils sont tous devenus 'rien'\n",
    "df_propre['alim_ssgrp_nom_fr'].value_counts()"
   ]
  },
  {
   "cell_type": "code",
   "execution_count": 15,
   "id": "b88478e7",
   "metadata": {},
   "outputs": [],
   "source": [
    "#On supprime les alim_ssgrp_nom_fr qui nous servent pas\n",
    "sous_groupe_sup = ['céréales et biscuits infantiles', 'rien', 'aides culinaires et ingrédients pour végétariens', 'huiles de poissons',\n",
    "                  'desserts infantiles', 'denrées destinées à une alimentation particulière', 'aides culinaires et ingrédients pour végétariens',\n",
    "                  'sorbets', 'barres céréalières', 'glaces', 'desserts glacés', 'petits pots salés et plats infantiles',\n",
    "                  'autres produits à base de viande', 'laits et boissons infantiles', 'confiseries non chocolatées',\n",
    "                  'biscuits apéritifs', 'salades composées et crudités', 'viennoiseries', 'feuilletées et autres entrées',\n",
    "                  'sandwichs', 'pizzas, tartes et crêpes salées', 'gâteaux et pâtisseries', 'plats composés']\n",
    "i = 0\n",
    "\n",
    "while(i < len(sous_groupe_sup)):\n",
    "    df_propre.drop(df_propre[df_propre['alim_ssgrp_nom_fr'] == sous_groupe_sup[i]].index, inplace = True)\n",
    "    i = i + 1\n"
   ]
  },
  {
   "cell_type": "code",
   "execution_count": 16,
   "id": "79ebd08d",
   "metadata": {},
   "outputs": [
    {
     "data": {
      "text/plain": [
       "légumes                                              303\n",
       "charcuteries et assimilés                            173\n",
       "fruits                                               170\n",
       "viandes crues                                        162\n",
       "boissons sans alcool                                 156\n",
       "produits laitiers frais et assimilés                 137\n",
       "fromages et assimilés                                135\n",
       "viandes cuites                                       133\n",
       "poissons crus                                        106\n",
       "eaux                                                  90\n",
       "sauces                                                75\n",
       "pâtes, riz et céréales                                71\n",
       "biscuits sucrés                                       65\n",
       "poissons cuits                                        63\n",
       "produits à base de poissons et produits de la mer     56\n",
       "pains et assimilés                                    56\n",
       "fruits à coque et graines oléagineuses                52\n",
       "pommes de terre et autres tubercules                  51\n",
       "boisson alcoolisées                                   49\n",
       "céréales de petit-déjeuner                            48\n",
       "soupes                                                46\n",
       "légumineuses                                          38\n",
       "huiles et graisses végétales                          32\n",
       "chocolats et produits à base de chocolat              31\n",
       "herbes                                                28\n",
       "ingrédients divers                                    26\n",
       "épices                                                25\n",
       "mollusques et crustacés crus                          25\n",
       "mollusques et crustacés cuits                         24\n",
       "œufs                                                  24\n",
       "laits                                                 20\n",
       "margarines                                            19\n",
       "condiments                                            17\n",
       "algues                                                17\n",
       "sucres, miels et assimilés                            15\n",
       "confitures et assimilés                               14\n",
       "beurres                                               13\n",
       "aides culinaires                                      12\n",
       "crèmes et spécialités à base de crème                  9\n",
       "autres matières grasses                                7\n",
       "substitus de produits carnés                           6\n",
       "sels                                                   6\n",
       "Name: alim_ssgrp_nom_fr, dtype: int64"
      ]
     },
     "execution_count": 16,
     "metadata": {},
     "output_type": "execute_result"
    }
   ],
   "source": [
    "#On vérifie bien que les alim_ssgrp_nom_fr sont supprimées\n",
    "df_propre['alim_ssgrp_nom_fr'].value_counts()"
   ]
  },
  {
   "cell_type": "code",
   "execution_count": 17,
   "id": "34a97c0f",
   "metadata": {},
   "outputs": [],
   "source": [
    "#Remplace tous les 'traces' en 0 et les '-' en 'Nan' dans les colonnes suivantes\n",
    "for column in df_propre['Kcal/100 g']:\n",
    "            df_propre['Kcal/100 g'] = df_propre['Kcal/100 g'].replace(['traces'], ['0'])\n",
    "            df_propre['Kcal/100 g'] = df_propre['Kcal/100 g'].replace(['-'], value = np.nan, regex = True)            \n",
    "            \n",
    "for column in df_propre['Protéines/100 g']:\n",
    "            df_propre['Protéines/100 g'] = df_propre['Protéines/100 g'].replace(['traces'], ['0'])\n",
    "            df_propre['Protéines/100 g'] = df_propre['Protéines/100 g'].replace(['-'], value = np.nan, regex = True)\n",
    "\n",
    "for column in df_propre['Glucides/100 g']:\n",
    "            df_propre['Glucides/100 g'] = df_propre['Glucides/100 g'].replace(['traces'], ['0'])\n",
    "            df_propre['Glucides/100 g'] = df_propre['Glucides/100 g'].replace(['-'], value = np.nan, regex = True)\n",
    "\n",
    "for column in df_propre['Lipides/100 g']:\n",
    "            df_propre['Lipides/100 g'] = df_propre['Lipides/100 g'].replace(['traces'], ['0'])\n",
    "            df_propre['Lipides/100 g'] = df_propre['Lipides/100 g'].replace(['-'], value = np.nan, regex = True)\n",
    "\n",
    "for column in df_propre['Sucres/100 g']:\n",
    "            df_propre['Sucres/100 g'] = df_propre['Sucres/100 g'].replace(['traces'], ['0'])\n",
    "            df_propre['Sucres/100 g'] = df_propre['Sucres/100 g'].replace(['-'], value = np.nan, regex = True)\n",
    "\n",
    "for column in df_propre['AG saturés/100 g']:\n",
    "            df_propre['AG saturés/100 g'] = df_propre['AG saturés/100 g'].replace(['traces'], ['0'])\n",
    "            df_propre['AG saturés/100 g'] = df_propre['AG saturés/100 g'].replace(['-'], value = np.nan, regex = True)"
   ]
  },
  {
   "cell_type": "code",
   "execution_count": 18,
   "id": "f7b5d061",
   "metadata": {},
   "outputs": [
    {
     "data": {
      "text/plain": [
       "alim_grp_nom_fr        0\n",
       "alim_ssgrp_nom_fr      0\n",
       "alim_code              0\n",
       "alim_nom_fr            0\n",
       "Kcal/100 g           736\n",
       "Protéines/100 g       16\n",
       "Glucides/100 g        79\n",
       "Lipides/100 g         16\n",
       "Sucres/100 g         349\n",
       "AG saturés/100 g     270\n",
       "dtype: int64"
      ]
     },
     "execution_count": 18,
     "metadata": {},
     "output_type": "execute_result"
    }
   ],
   "source": [
    "#On affiche le nombre 'Nan' de chaque colonne\n",
    "df_propre.isna().sum()"
   ]
  },
  {
   "cell_type": "code",
   "execution_count": 19,
   "id": "f46ed77d",
   "metadata": {},
   "outputs": [
    {
     "name": "stdout",
     "output_type": "stream",
     "text": [
      "2605\n"
     ]
    }
   ],
   "source": [
    "#On compte le nombre de ligne avant de supprimer ceux qui ont une valeur 'Nan'\n",
    "nombre_total_avant = df_propre['alim_grp_nom_fr'].count()\n",
    "print(nombre_total_avant)"
   ]
  },
  {
   "cell_type": "code",
   "execution_count": 20,
   "id": "760d61fd",
   "metadata": {},
   "outputs": [],
   "source": [
    "#On supprime toutes les lignes qui ont une valeur 'Nan'\n",
    "for column in df_propre:\n",
    "            df_propre = df_propre.dropna()"
   ]
  },
  {
   "cell_type": "code",
   "execution_count": 21,
   "id": "06f65c21",
   "metadata": {},
   "outputs": [
    {
     "data": {
      "text/plain": [
       "alim_grp_nom_fr      0\n",
       "alim_ssgrp_nom_fr    0\n",
       "alim_code            0\n",
       "alim_nom_fr          0\n",
       "Kcal/100 g           0\n",
       "Protéines/100 g      0\n",
       "Glucides/100 g       0\n",
       "Lipides/100 g        0\n",
       "Sucres/100 g         0\n",
       "AG saturés/100 g     0\n",
       "dtype: int64"
      ]
     },
     "execution_count": 21,
     "metadata": {},
     "output_type": "execute_result"
    }
   ],
   "source": [
    "#On vérifie\n",
    "df_propre.isna().sum()"
   ]
  },
  {
   "cell_type": "code",
   "execution_count": 22,
   "id": "f7525d75",
   "metadata": {},
   "outputs": [
    {
     "name": "stdout",
     "output_type": "stream",
     "text": [
      "1571\n"
     ]
    }
   ],
   "source": [
    "#On recompte le nombre de lignes\n",
    "nombre_total_apres = df_propre['alim_grp_nom_fr'].count()\n",
    "print(nombre_total_apres)"
   ]
  },
  {
   "cell_type": "code",
   "execution_count": 23,
   "id": "8dd858bc",
   "metadata": {},
   "outputs": [
    {
     "name": "stdout",
     "output_type": "stream",
     "text": [
      "39.69 % de perdu\n"
     ]
    }
   ],
   "source": [
    "#On fait le calcul pour savoir le pourcentage de pertes\n",
    "print(round(100 - (nombre_total_apres / nombre_total_avant) * 100 , 2), '% de perdu')"
   ]
  },
  {
   "cell_type": "code",
   "execution_count": 24,
   "id": "46a3fa6d",
   "metadata": {},
   "outputs": [
    {
     "data": {
      "text/plain": [
       "légumes                                              132\n",
       "charcuteries et assimilés                            126\n",
       "viandes crues                                        124\n",
       "fromages et assimilés                                105\n",
       "poissons crus                                         95\n",
       "produits laitiers frais et assimilés                  85\n",
       "eaux                                                  69\n",
       "boissons sans alcool                                  66\n",
       "poissons cuits                                        61\n",
       "fruits                                                59\n",
       "viandes cuites                                        58\n",
       "pâtes, riz et céréales                                56\n",
       "pains et assimilés                                    50\n",
       "pommes de terre et autres tubercules                  47\n",
       "céréales de petit-déjeuner                            46\n",
       "produits à base de poissons et produits de la mer     45\n",
       "soupes                                                45\n",
       "huiles et graisses végétales                          32\n",
       "œufs                                                  23\n",
       "mollusques et crustacés crus                          21\n",
       "herbes                                                21\n",
       "épices                                                19\n",
       "margarines                                            19\n",
       "laits                                                 18\n",
       "boisson alcoolisées                                   18\n",
       "chocolats et produits à base de chocolat              14\n",
       "sauces                                                13\n",
       "ingrédients divers                                    13\n",
       "mollusques et crustacés cuits                         12\n",
       "aides culinaires                                      12\n",
       "beurres                                               10\n",
       "condiments                                             8\n",
       "légumineuses                                           7\n",
       "confitures et assimilés                                7\n",
       "biscuits sucrés                                        7\n",
       "crèmes et spécialités à base de crème                  7\n",
       "fruits à coque et graines oléagineuses                 6\n",
       "substitus de produits carnés                           6\n",
       "autres matières grasses                                6\n",
       "sucres, miels et assimilés                             2\n",
       "sels                                                   1\n",
       "Name: alim_ssgrp_nom_fr, dtype: int64"
      ]
     },
     "execution_count": 24,
     "metadata": {},
     "output_type": "execute_result"
    }
   ],
   "source": [
    "#On regarde les pertes de la colonne 'alim_ssgrp_nom_fr'\n",
    "df_propre['alim_ssgrp_nom_fr'].value_counts()"
   ]
  },
  {
   "cell_type": "code",
   "execution_count": 25,
   "id": "c116e788",
   "metadata": {},
   "outputs": [],
   "source": [
    "#On remplace les virgules par des points et on enelve '<' devant certaines valeurs\n",
    "cols = ['Kcal/100 g', 'Protéines/100 g', 'Glucides/100 g', 'Lipides/100 g', 'Sucres/100 g', 'AG saturés/100 g']\n",
    "\n",
    "for col in cols:\n",
    "    df_propre[col] = df_propre[col].map(lambda x: str(x).replace(',', '.').lstrip('<')).astype(float)"
   ]
  },
  {
   "cell_type": "markdown",
   "id": "818e4369",
   "metadata": {},
   "source": [
    "Maintentant qu'on a fini de nettoyer les valeurs numériques, on va normaliser les valeurs textuelles."
   ]
  },
  {
   "cell_type": "markdown",
   "id": "fc511fe3",
   "metadata": {},
   "source": [
    "### <font color = \"blue\">3.2- Valeur textuelle </font>"
   ]
  },
  {
   "cell_type": "code",
   "execution_count": 277,
   "id": "14365e98",
   "metadata": {},
   "outputs": [],
   "source": [
    "french_stopwords = set(stopwords.words('french'))\n",
    "filtre_stopfr = lambda text: [token for token in text if token.lower() not in french_stopwords]"
   ]
  },
  {
   "cell_type": "code",
   "execution_count": 278,
   "id": "f5a7eca9",
   "metadata": {},
   "outputs": [],
   "source": [
    "def scrapper(url):\n",
    "    recipe = []\n",
    "    page = requests.get(url)\n",
    "    # https://www.marmiton.org/recettes/recette_sauce-puttanesca_14929.aspx\n",
    "    tree = html.fromstring(page.content)\n",
    "    products = tree.xpath(\"//div[contains(@class, 'MuiGrid-root')]\")\n",
    "    for product in products[1:]:\n",
    "        recipe.append(product.text_content())\n",
    "    return(recipe)"
   ]
  },
  {
   "cell_type": "code",
   "execution_count": 279,
   "id": "e2afca8e",
   "metadata": {},
   "outputs": [],
   "source": [
    "def normalize_text(text, stemmer=True):\n",
    "    text = unaccented_string = unidecode.unidecode(str(text))    \n",
    "    tokenizer = RegexpTokenizer(r'\\w+')\n",
    "    text = tokenizer.tokenize(text)\n",
    "    text = \" \".join(text)\n",
    "    words = filtre_stopfr( word_tokenize(text, language=\"french\") )\n",
    "    if stemmer:\n",
    "        stemmer = FrenchStemmer()\n",
    "        res = \" \".join([stemmer.stem(w) for w in words])\n",
    "    else:\n",
    "        res = \" \".join(words)\n",
    "    return res"
   ]
  },
  {
   "cell_type": "code",
   "execution_count": 280,
   "id": "3fdca707",
   "metadata": {},
   "outputs": [],
   "source": [
    "def word_in_column(df_propre, prod, col):\n",
    "    mask = df_propre[col].str.contains(prod)\n",
    "    return df_propre.loc[mask]"
   ]
  },
  {
   "cell_type": "code",
   "execution_count": 281,
   "id": "3a54e4b3",
   "metadata": {},
   "outputs": [],
   "source": [
    "def list_match(name):\n",
    "    l_match = []\n",
    "    words_test = normalize_text(name).split(\" \")\n",
    "    for word in words_test:\n",
    "        l_match.append(word_in_column(df_propre, word, 'alim_nom_fr'))\n",
    "    res = pd.concat(l_match)\n",
    "    df = pd.DataFrame(res)\n",
    "    #res.reset_index()[\"index\"].value_counts().iloc[0]\n",
    "    return df"
   ]
  },
  {
   "cell_type": "code",
   "execution_count": 282,
   "id": "ea066b71",
   "metadata": {},
   "outputs": [
    {
     "data": {
      "text/plain": [
       "2"
      ]
     },
     "execution_count": 282,
     "metadata": {},
     "output_type": "execute_result"
    }
   ],
   "source": [
    "#Afficher la liste des index avec le nombre de fois que ca s'affiche\n",
    "res.reset_index()[\"index\"].value_counts()\n",
    "#Afficher le premier et plus grand résultat\n",
    "id_res = res.reset_index()[\"index\"].value_counts().index[0]\n",
    "#Afficher le nombre de fois que ca revient\n",
    "res.reset_index()[\"index\"].value_counts().iloc[0]"
   ]
  },
  {
   "cell_type": "code",
   "execution_count": 283,
   "id": "a6b32395",
   "metadata": {},
   "outputs": [],
   "source": [
    "def best_res(res):\n",
    "    id_res = res.reset_index()[\"index\"].value_counts().index[0]\n",
    "    print(df_propre.loc[id_res])\n",
    "    return id_res;"
   ]
  },
  {
   "cell_type": "code",
   "execution_count": 284,
   "id": "20be0f60",
   "metadata": {},
   "outputs": [],
   "source": [
    "def matcher(name):\n",
    "    res = list_match(name)\n",
    "    id_res = best_res(res)\n",
    "    return (id_res)"
   ]
  },
  {
   "cell_type": "code",
   "execution_count": 285,
   "id": "7da142f1",
   "metadata": {},
   "outputs": [],
   "source": [
    "def food_matcher(nom_aliment):\n",
    "    prod = normalize_text(nom_aliment)\n",
    "    products_fit = words_in_column(df_propre, prod, 'alim_nom_fr')\n",
    "    print(f\"size products {products_fit.shape[0]}\")\n",
    "    shorter_description_sample = products_fit[\"alim_nom_fr\"].apply(len).sort_values()[:10].index\n",
    "    print(shorter_description_sample)\n",
    "    ten_shorter_des_match = df_propre.loc[shorter_description_sample]\n",
    "    print(ten_shorter_des_match[\"alim_ssgrp_nom_fr\"].value_counts())\n",
    "    best_cat = ten_shorter_des_match[\"alim_ssgrp_nom_fr\"].value_counts().index[0]\n",
    "    if best_cat == \"nan\":\n",
    "        best_cat = ten_shorter_des_match[\"alim_ssgrp_nom_fr\"].value_counts().index[1]\n",
    "    ten_shorter_des_match = ten_shorter_des_match.loc[ten_shorter_des_match[\"alim_ssgrp_nom_fr\"]==best_cat]\n",
    "    best_bet = ten_shorter_des_match.iloc[0]\n",
    "    print(f\"Best match : {best_bet['alim_nom_fr']} \\nBest cat : {best_cat}\")\n",
    "    return best_bet"
   ]
  },
  {
   "cell_type": "code",
   "execution_count": 305,
   "id": "f31900b4",
   "metadata": {},
   "outputs": [],
   "source": [
    "def list_to_tab(list_ing):\n",
    "    tab = []\n",
    "    for value in list_ing:\n",
    "        u_mes = value.split(' ', 1)[0]\n",
    "        if (u_mes is None):\n",
    "            u_mes = 1\n",
    "        attr = value.split(' ', 1)[1]\n",
    "        temp = normalize_text(attr,False)\n",
    "        tab.append([u_mes, temp])\n",
    "    return (tab)"
   ]
  },
  {
   "cell_type": "code",
   "execution_count": 365,
   "id": "5766aaa5",
   "metadata": {},
   "outputs": [],
   "source": [
    "def nutr_calculator(df_ingr, quantity, unity):\n",
    "    kcal = df_ingr[\"Kcal/100 g\"]\n",
    "    proteines = df_ingr[\"Protéines/100 g\"]\n",
    "    glucides = df_ingr[\"Glucides/100 g\"]\n",
    "    lipides = df_ingr[\"Lipides/100 g\"]\n",
    "    sucres = df_ingr[\"Sucres/100 g\"]\n",
    "    ag_satures = df_ingr[\"AG saturés/100 g\"]\n",
    "    \n",
    "    q = int(quantity)\n",
    "    \n",
    "    print(\"kcal : \" + str(kcal) + \"\\nprotéines : \" + str(proteines) + \"\\nglucides : \"+ str(glucides) + \"\\nlipides : \"+ str(lipides) +  \"\\nsucres : \"+ str(sucres) + \"\\nag_saturés : \" + str(ag_satures))\n",
    "    \n",
    "    if (unity == 'g'):\n",
    "        kcal = kcal * (q/100)\n",
    "        proteines = proteines * (q/100)\n",
    "        glucides = glucides * (q/100)\n",
    "        sucres = sucres * (q/100)\n",
    "        ag_satures = ag_satures * (q/100)\n",
    "        \n",
    "    elif (unity == 'mg'):\n",
    "        kcal = kcal * (q/1000)\n",
    "        proteines = proteines * (q/1000)\n",
    "        glucides = glucides * (q/1000)\n",
    "        sucres = sucres * (q/1000)\n",
    "        ag_satures = ag_satures * (q/1000)\n",
    "        \n",
    "    elif (unity == \"cl\"):\n",
    "        kcal = kcal * (q/10)\n",
    "        proteines = proteines * (q/10)\n",
    "        glucides = glucides * (q/10)\n",
    "        sucres = sucres * (q/10)\n",
    "        ag_satures = ag_satures * (q/10)\n",
    "        \n",
    "    elif (unity == \"l\"):\n",
    "        kcal = kcal * (q*10)\n",
    "        proteines = proteines * (q*10)\n",
    "        glucides = glucides * (q*10)\n",
    "        sucres = sucres * (q*10)\n",
    "        ag_satures = ag_satures * (q*10)\n",
    "        \n",
    "    elif (unity == \"ml\"):\n",
    "        kcal = kcal * (q/100)\n",
    "        proteines = proteines * (q/100)\n",
    "        glucides = glucides * (q/100)\n",
    "        sucres = sucres * (q/100)\n",
    "        ag_satures = ag_satures * (q/100)\n",
    "        \n",
    "    elif (unity == \"c.à.s\"):\n",
    "        kcal = (kcal * (q/10)) * 1.5\n",
    "        proteines = (proteines * (q/10)) * 1.5\n",
    "        glucides = (glucides * (q/10)) * 1.5\n",
    "        sucres = (sucres * (q/10)) * 1.5\n",
    "        ag_satures = (ag_satures * (q/10)) * 1.5\n",
    "        \n",
    "    #Le cas pour les oeufs  \n",
    "    \n",
    "    #elif (unity == 0 and df_ingr[\"Name\"] == 1916):\n",
    "        #kcal = (kcal * (q/100)) * 0.5\n",
    "        #proteines = (proteines * (q/100)) * 0.5\n",
    "        #glucides = (glucides * (q/100)) * 0.5\n",
    "        #sucres = (sucres * (q/100)) * 0.5\n",
    "        #ag_satures = (ag_satures * (q/100)) * 0.5\n",
    "\n",
    "    else:\n",
    "        kcal = 0\n",
    "        proteines = 0\n",
    "        glucides = 0\n",
    "        sucres = 0\n",
    "        ag_satures = 0\n",
    "        \n",
    "    tab = [kcal, proteines, glucides, sucres, ag_satures]\n",
    "    \n",
    "    return (tab)\n",
    "\n",
    "    "
   ]
  },
  {
   "cell_type": "code",
   "execution_count": 381,
   "id": "49eb0f06",
   "metadata": {},
   "outputs": [],
   "source": [
    "def food_calculator(list_ing):\n",
    "    total_nutr = [0, 0, 0, 0, 0]\n",
    "    tmp = [0, 0, 0, 0, 0]\n",
    "    for value in list_ing:\n",
    "        if (value[0] == ''):\n",
    "            quantity = 0\n",
    "            unity = 0          \n",
    "        else :\n",
    "            quantity = value[0].split('\\xa0', 1)[0]\n",
    "            if (len(value[0]) == 1):\n",
    "                unity = 0\n",
    "            else:\n",
    "                unity = value[0].split('\\xa0', 1)[1] \n",
    "        df_ingr = df_propre.loc[matcher(value[1])]        \n",
    "         \n",
    "        print(\"+++++++++\")\n",
    "        print(\"Quantite: \" + str(quantity))\n",
    "        print(\"Unity: \" + str(unity))\n",
    "        print(\"*********\")\n",
    "        tmp = nutr_calculator(df_ingr, quantity, unity)\n",
    "        total_nutr = [b_elt + a_elt for a_elt, b_elt in zip(total_nutr, tmp)]\n",
    "        print(tmp)\n",
    "        print(\"+++++++++++++++++\")\n",
    "        \n",
    "    print(\"\\n\\n\\n\\n\\nTotal des Nutriments: \" + str(total_nutr) + \"\\n\\n\\n\\n\")\n",
    "          "
   ]
  },
  {
   "cell_type": "code",
   "execution_count": 382,
   "id": "26da72df",
   "metadata": {},
   "outputs": [],
   "source": [
    "def food_checker_main(url):\n",
    "    recipe = scrapper(url)\n",
    "    df_propre[\"alim_nom_fr\"] = df_propre[\"alim_nom_fr\"].apply(normalize_text)\n",
    "    df_propre[\"alim_ssgrp_nom_fr\"] = df_propre[\"alim_ssgrp_nom_fr\"].apply(normalize_text)\n",
    "    ingr_list = list_to_tab(recipe)\n",
    "    \n",
    "    print(\"Liste des ingrédients: \\n\\n\")\n",
    "    print(ingr_list)\n",
    "    print(\"Calcul des nutriments: \\n\\n\")\n",
    "    food_calculator(ingr_list)"
   ]
  },
  {
   "cell_type": "code",
   "execution_count": 383,
   "id": "31e2fe1f",
   "metadata": {},
   "outputs": [
    {
     "name": "stdout",
     "output_type": "stream",
     "text": [
      "Liste des ingrédients: \n",
      "\n",
      "\n",
      "[['2\\xa0c.à.s', 'huile olive'], ['10\\xa0cl', 'vin rouge Sangiovese sec'], ['20\\xa0cl', 'bouillon'], ['500\\xa0g', 'puree tomate passata'], ['50\\xa0g', 'oignon hache'], ['50\\xa0g', 'carotte jaune hache'], ['', 'poivre'], ['', 'sel'], ['500\\xa0g', 'pates'], ['300\\xa0g', 'boeuf maigre hache'], ['100\\xa0g', 'lard doux'], ['50\\xa0g', 'celeri branche hache']]\n",
      "Calcul des nutriments: \n",
      "\n",
      "\n",
      "alim_grp_nom_fr                        matières grasses\n",
      "alim_ssgrp_nom_fr                   huil graiss vegetal\n",
      "alim_code                                         17701\n",
      "alim_nom_fr          huil combin melang huil oliv grain\n",
      "Kcal/100 g                                        900.0\n",
      "Protéines/100 g                                     0.0\n",
      "Glucides/100 g                                      0.0\n",
      "Lipides/100 g                                     100.0\n",
      "Sucres/100 g                                        0.0\n",
      "AG saturés/100 g                                   12.1\n",
      "Name: 2903, dtype: object\n",
      "+++++++++\n",
      "Quantite: 2\n",
      "Unity: c.à.s\n",
      "*********\n",
      "kcal : 900.0\n",
      "protéines : 0.0\n",
      "glucides : 0.0\n",
      "lipides : 100.0\n",
      "sucres : 0.0\n",
      "ag_saturés : 12.1\n",
      "[270.0, 0.0, 0.0, 0.0, 3.63]\n",
      "+++++++++++++++++\n",
      "alim_grp_nom_fr      eaux et autres boissons\n",
      "alim_ssgrp_nom_fr             boisson alcool\n",
      "alim_code                               5214\n",
      "alim_nom_fr                         vin roug\n",
      "Kcal/100 g                              82.1\n",
      "Protéines/100 g                         0.07\n",
      "Glucides/100 g                          2.63\n",
      "Lipides/100 g                            0.0\n",
      "Sucres/100 g                            0.62\n",
      "AG saturés/100 g                         0.0\n",
      "Name: 2482, dtype: object\n",
      "+++++++++\n",
      "Quantite: 10\n",
      "Unity: cl\n",
      "*********\n",
      "kcal : 82.1\n",
      "protéines : 0.07\n",
      "glucides : 2.63\n",
      "lipides : 0.0\n",
      "sucres : 0.62\n",
      "ag_saturés : 0.0\n",
      "[82.1, 0.07, 2.63, 0.62, 0.0]\n",
      "+++++++++++++++++\n",
      "alim_grp_nom_fr      aides culinaires et ingrédients divers\n",
      "alim_ssgrp_nom_fr                              aid culinair\n",
      "alim_code                                             11001\n",
      "alim_nom_fr                        bouillon boeuf deshydrat\n",
      "Kcal/100 g                                            240.0\n",
      "Protéines/100 g                                        10.2\n",
      "Glucides/100 g                                         19.7\n",
      "Lipides/100 g                                          13.3\n",
      "Sucres/100 g                                           3.95\n",
      "AG saturés/100 g                                       7.03\n",
      "Name: 3027, dtype: object\n",
      "+++++++++\n",
      "Quantite: 20\n",
      "Unity: cl\n",
      "*********\n",
      "kcal : 240.0\n",
      "protéines : 10.2\n",
      "glucides : 19.7\n",
      "lipides : 13.3\n",
      "sucres : 3.95\n",
      "ag_saturés : 7.03\n",
      "[480.0, 20.4, 39.4, 7.9, 14.06]\n",
      "+++++++++++++++++\n",
      "alim_grp_nom_fr                  viandes, œufs, poissons et assimilés\n",
      "alim_ssgrp_nom_fr                   produit a bas poisson produit mer\n",
      "alim_code                                                       10081\n",
      "alim_nom_fr          moul a sauc catalan escabech tomat appert egoutt\n",
      "Kcal/100 g                                                      145.0\n",
      "Protéines/100 g                                                  12.5\n",
      "Glucides/100 g                                                    5.0\n",
      "Lipides/100 g                                                     7.9\n",
      "Sucres/100 g                                                      3.7\n",
      "AG saturés/100 g                                                 0.91\n",
      "Name: 1857, dtype: object\n",
      "+++++++++\n",
      "Quantite: 500\n",
      "Unity: g\n",
      "*********\n",
      "kcal : 145.0\n",
      "protéines : 12.5\n",
      "glucides : 5.0\n",
      "lipides : 7.9\n",
      "sucres : 3.7\n",
      "ag_saturés : 0.91\n",
      "[725.0, 62.5, 25.0, 18.5, 4.55]\n",
      "+++++++++++++++++\n",
      "alim_grp_nom_fr      viandes, œufs, poissons et assimilés\n",
      "alim_ssgrp_nom_fr                               viand cru\n",
      "alim_code                                            6535\n",
      "alim_nom_fr                     veau steak hach 20 mg cru\n",
      "Kcal/100 g                                          243.0\n",
      "Protéines/100 g                                      16.7\n",
      "Glucides/100 g                                        0.4\n",
      "Lipides/100 g                                        19.5\n",
      "Sucres/100 g                                          0.0\n",
      "AG saturés/100 g                                      8.5\n",
      "Name: 1305, dtype: object\n",
      "+++++++++\n",
      "Quantite: 50\n",
      "Unity: g\n",
      "*********\n",
      "kcal : 243.0\n",
      "protéines : 16.7\n",
      "glucides : 0.4\n",
      "lipides : 19.5\n",
      "sucres : 0.0\n",
      "ag_saturés : 8.5\n",
      "[121.5, 8.35, 0.2, 0.0, 4.25]\n",
      "+++++++++++++++++\n",
      "alim_grp_nom_fr      viandes, œufs, poissons et assimilés\n",
      "alim_ssgrp_nom_fr                            poisson cuit\n",
      "alim_code                                           26192\n",
      "alim_nom_fr                          lieu jaun colin cuit\n",
      "Kcal/100 g                                          100.0\n",
      "Protéines/100 g                                      24.4\n",
      "Glucides/100 g                                        0.0\n",
      "Lipides/100 g                                         0.5\n",
      "Sucres/100 g                                          0.0\n",
      "AG saturés/100 g                                     0.01\n",
      "Name: 1664, dtype: object\n",
      "+++++++++\n",
      "Quantite: 50\n",
      "Unity: g\n",
      "*********\n",
      "kcal : 100.0\n",
      "protéines : 24.4\n",
      "glucides : 0.0\n",
      "lipides : 0.5\n",
      "sucres : 0.0\n",
      "ag_saturés : 0.01\n",
      "[50.0, 12.2, 0.0, 0.0, 0.005]\n",
      "+++++++++++++++++\n",
      "alim_grp_nom_fr      aides culinaires et ingrédients divers\n",
      "alim_ssgrp_nom_fr                                      epic\n",
      "alim_code                                             11088\n",
      "alim_nom_fr                        poivr cayen piment cayen\n",
      "Kcal/100 g                                            376.0\n",
      "Protéines/100 g                                        12.0\n",
      "Glucides/100 g                                         29.4\n",
      "Lipides/100 g                                          17.3\n",
      "Sucres/100 g                                           10.3\n",
      "AG saturés/100 g                                       3.26\n",
      "Name: 3067, dtype: object\n",
      "+++++++++\n",
      "Quantite: 0\n",
      "Unity: 0\n",
      "*********\n",
      "kcal : 376.0\n",
      "protéines : 12.0\n",
      "glucides : 29.4\n",
      "lipides : 17.3\n",
      "sucres : 10.3\n",
      "ag_saturés : 3.26\n",
      "[0, 0, 0, 0, 0]\n",
      "+++++++++++++++++\n",
      "alim_grp_nom_fr                                       matières grasses\n",
      "alim_ssgrp_nom_fr                                             margarin\n",
      "alim_code                                                        16734\n",
      "alim_nom_fr          mat grass vegetal typ margarin a tartin a 30 4...\n",
      "Kcal/100 g                                                       358.0\n",
      "Protéines/100 g                                                    0.9\n",
      "Glucides/100 g                                                    3.05\n",
      "Lipides/100 g                                                     38.0\n",
      "Sucres/100 g                                                       1.5\n",
      "AG saturés/100 g                                                  17.3\n",
      "Name: 2912, dtype: object\n",
      "+++++++++\n",
      "Quantite: 0\n",
      "Unity: 0\n",
      "*********\n",
      "kcal : 358.0\n",
      "protéines : 0.9\n",
      "glucides : 3.05\n",
      "lipides : 38.0\n",
      "sucres : 1.5\n",
      "ag_saturés : 17.3\n",
      "[0, 0, 0, 0, 0]\n",
      "+++++++++++++++++\n",
      "alim_grp_nom_fr                         produits laitiers et assimilés\n",
      "alim_ssgrp_nom_fr                                       fromag assimil\n",
      "alim_code                                                        12047\n",
      "alim_nom_fr          fromag a pat moll a crout lav lait pasteur typ...\n",
      "Kcal/100 g                                                       311.0\n",
      "Protéines/100 g                                                   19.9\n",
      "Glucides/100 g                                                     0.0\n",
      "Lipides/100 g                                                     25.7\n",
      "Sucres/100 g                                                       0.0\n",
      "AG saturés/100 g                                                  17.4\n",
      "Name: 2113, dtype: object\n",
      "+++++++++\n",
      "Quantite: 500\n",
      "Unity: g\n",
      "*********\n",
      "kcal : 311.0\n",
      "protéines : 19.9\n",
      "glucides : 0.0\n",
      "lipides : 25.7\n",
      "sucres : 0.0\n",
      "ag_saturés : 17.4\n",
      "[1555.0, 99.5, 0.0, 0.0, 87.0]\n",
      "+++++++++++++++++\n",
      "alim_grp_nom_fr      viandes, œufs, poissons et assimilés\n",
      "alim_ssgrp_nom_fr                              viand cuit\n",
      "alim_code                                            6259\n",
      "alim_nom_fr           boeuf steak hach cuit aliment moyen\n",
      "Kcal/100 g                                          231.0\n",
      "Protéines/100 g                                      23.8\n",
      "Glucides/100 g                                     0.0018\n",
      "Lipides/100 g                                        15.1\n",
      "Sucres/100 g                                          0.0\n",
      "AG saturés/100 g                                     6.65\n",
      "Name: 1169, dtype: object\n",
      "+++++++++\n",
      "Quantite: 300\n",
      "Unity: g\n",
      "*********\n",
      "kcal : 231.0\n",
      "protéines : 23.8\n",
      "glucides : 0.0018\n",
      "lipides : 15.1\n",
      "sucres : 0.0\n",
      "ag_saturés : 6.65\n",
      "[693.0, 71.4, 0.0054, 0.0, 19.950000000000003]\n",
      "+++++++++++++++++\n",
      "alim_grp_nom_fr                viandes, œufs, poissons et assimilés\n",
      "alim_ssgrp_nom_fr                                      poisson crus\n",
      "alim_code                                                     26102\n",
      "alim_nom_fr          maquereau espagnol maquereau blanc billard cru\n",
      "Kcal/100 g                                                    135.0\n",
      "Protéines/100 g                                                22.1\n",
      "Glucides/100 g                                                  0.0\n",
      "Lipides/100 g                                                  5.15\n",
      "Sucres/100 g                                                    0.0\n",
      "AG saturés/100 g                                               1.59\n",
      "Name: 1728, dtype: object\n",
      "+++++++++\n",
      "Quantite: 100\n",
      "Unity: g\n",
      "*********\n",
      "kcal : 135.0\n",
      "protéines : 22.1\n",
      "glucides : 0.0\n",
      "lipides : 5.15\n",
      "sucres : 0.0\n",
      "ag_saturés : 1.59\n",
      "[135.0, 22.1, 0.0, 0.0, 1.59]\n",
      "+++++++++++++++++\n",
      "alim_grp_nom_fr      viandes, œufs, poissons et assimilés\n",
      "alim_ssgrp_nom_fr                               viand cru\n",
      "alim_code                                            6250\n",
      "alim_nom_fr                     boeuf steak hach 5 mg cru\n",
      "Kcal/100 g                                          130.0\n",
      "Protéines/100 g                                      21.9\n",
      "Glucides/100 g                                        0.3\n",
      "Lipides/100 g                                        4.59\n",
      "Sucres/100 g                                          0.0\n",
      "AG saturés/100 g                                     1.64\n",
      "Name: 1294, dtype: object\n",
      "+++++++++\n",
      "Quantite: 50\n",
      "Unity: g\n",
      "*********\n",
      "kcal : 130.0\n",
      "protéines : 21.9\n",
      "glucides : 0.3\n",
      "lipides : 4.59\n",
      "sucres : 0.0\n",
      "ag_saturés : 1.64\n",
      "[65.0, 10.95, 0.15, 0.0, 0.82]\n",
      "+++++++++++++++++\n",
      "\n",
      "\n",
      "\n",
      "\n",
      "\n",
      "Total des Nutriments: [4176.6, 307.46999999999997, 67.3854, 27.02, 135.855]\n",
      "\n",
      "\n",
      "\n",
      "\n"
     ]
    }
   ],
   "source": [
    "food_checker_main(\"https://www.marmiton.org/recettes/recette_sauce-bolognaise-ragu-bolognese-recette-officielle_95684.aspx\")"
   ]
  },
  {
   "cell_type": "markdown",
   "id": "994af4d4",
   "metadata": {},
   "source": [
    "maintenir son poids 45 à 65% de glucides, 20 à 35% de lipides et 10 à 35% de protéines.\n",
    "\n",
    "perdre du poids, un ratio de 35% de glucides, 30% de lipides et de 35% de protéines.\n",
    "\n",
    "Par exemple, si vous décidez de suivre un régime cétogène pour maigrir, le ratio sera le suivant : 10% de glucides, 50% de lipides et 40% de protéines.\n",
    "\n",
    "régime hyperprotéiné, le ratio sera de 10% de glucides, 25% de lipides et 65% de protéines.\n",
    "\n",
    "masse musculaire 50% de glucides, 40% de protéines et 10% de lipides."
   ]
  }
 ],
 "metadata": {
  "kernelspec": {
   "display_name": "Python 3",
   "language": "python",
   "name": "python3"
  },
  "language_info": {
   "codemirror_mode": {
    "name": "ipython",
    "version": 3
   },
   "file_extension": ".py",
   "mimetype": "text/x-python",
   "name": "python",
   "nbconvert_exporter": "python",
   "pygments_lexer": "ipython3",
   "version": "3.8.8"
  }
 },
 "nbformat": 4,
 "nbformat_minor": 5
}
