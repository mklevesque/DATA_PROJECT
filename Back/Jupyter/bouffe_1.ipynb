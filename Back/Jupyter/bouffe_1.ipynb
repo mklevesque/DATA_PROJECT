{
 "cells": [
  {
   "cell_type": "code",
   "execution_count": 274,
   "id": "d0ea0e18-7a3d-4dc4-bcff-fa963d5ef6a8",
   "metadata": {},
   "outputs": [],
   "source": [
    "from pandas import read_excel\n",
    "# Importing necessary library\n",
    "import pandas as pd\n",
    "import numpy as np\n",
    "import nltk\n",
    "import os\n",
    "import nltk.corpus# sample text for performing tokenization\n",
    "from lxml import html\n",
    "import requests\n",
    "from nltk.tokenize import word_tokenize# Passing the string text into word tokenize for breaking the sentences\n",
    "from nltk.corpus import stopwords\n",
    "from nltk.tokenize import RegexpTokenizer\n",
    "from nltk.stem.snowball import FrenchStemmer\n",
    "import unidecode\n",
    "# faut lancer ca la premiere fois -> nltk.download()"
   ]
  },
  {
   "cell_type": "code",
   "execution_count": 275,
   "id": "d1e148c8-892b-4242-ac79-680210c77b9a",
   "metadata": {},
   "outputs": [],
   "source": [
    "bouffe = read_excel(\"bouffe.xls\")"
   ]
  },
  {
   "cell_type": "code",
   "execution_count": 276,
   "id": "f4ac7a32-3c06-49e8-bf15-3a74504f7fc2",
   "metadata": {},
   "outputs": [],
   "source": [
    "recipe = []"
   ]
  },
  {
   "cell_type": "code",
   "execution_count": 277,
   "id": "204b511a-ea4e-4cdd-bde8-82bc735af868",
   "metadata": {},
   "outputs": [],
   "source": [
    "french_stopwords = set(stopwords.words('french'))\n",
    "filtre_stopfr =  lambda text: [token for token in text if token.lower() not in french_stopwords]"
   ]
  },
  {
   "cell_type": "code",
   "execution_count": 281,
   "id": "a61be738-2f27-47e3-8b9c-e2087eef6382",
   "metadata": {},
   "outputs": [],
   "source": [
    "\n",
    "page = requests.get('https://www.marmiton.org/recettes/recette_sauce-puttanesca_14929.aspx')\n",
    "# https://www.marmiton.org/recettes/recette_sauce-puttanesca_14929.aspx\n",
    "tree = html.fromstring(page.content)\n",
    "products = tree.xpath(\"//div[contains(@class, 'MuiGrid-root')]\")\n",
    "for product in products[1:]:\n",
    "    recipe.append(product.text_content())"
   ]
  },
  {
   "cell_type": "code",
   "execution_count": 297,
   "id": "8e54c9be-3c1e-4e96-b9d0-d4d4da8d32a9",
   "metadata": {},
   "outputs": [
    {
     "data": {
      "text/plain": [
       "[\"3\\xa0cuillères d'huile d'olive \",\n",
       " \"2\\xa0gousses d'ail écrasées\",\n",
       " '1 piment rouge séché écrasé',\n",
       " '2\\xa0cuillères de câpres ',\n",
       " '500\\xa0g de pâtes ',\n",
       " \"6\\xa0filets d'anchois hachés\",\n",
       " '500\\xa0g de tomates pelées , épépinées et concassées',\n",
       " \"125\\xa0g d'olives noires dénoyautées et coupées en 2\"]"
      ]
     },
     "execution_count": 297,
     "metadata": {},
     "output_type": "execute_result"
    }
   ],
   "source": [
    "recipe"
   ]
  },
  {
   "cell_type": "code",
   "execution_count": 18,
   "id": "4b5bc61d-5c07-4765-b09e-b8978a576a07",
   "metadata": {},
   "outputs": [],
   "source": [
    "def normalize_text(text):\n",
    "    text = unaccented_string = unidecode.unidecode(str(text))    \n",
    "    tokenizer = RegexpTokenizer(r'\\w+')\n",
    "    text = tokenizer.tokenize(text)\n",
    "    text = \" \".join(text)\n",
    "    words = filtre_stopfr( word_tokenize(text, language=\"french\") )\n",
    "    stemmer = FrenchStemmer()\n",
    "    res = \" \".join([stemmer.stem(w) for w in words])\n",
    "    return res"
   ]
  },
  {
   "cell_type": "code",
   "execution_count": 282,
   "id": "1dac5515-3907-414b-a692-a42def6667b1",
   "metadata": {},
   "outputs": [],
   "source": [
    "bouffe[\"alim_nom_fr\"] = bouffe[\"alim_nom_fr\"].apply(normalize_text)"
   ]
  },
  {
   "cell_type": "code",
   "execution_count": 20,
   "id": "e0b55da3-c666-4e9b-b70b-16f702a80198",
   "metadata": {},
   "outputs": [],
   "source": [
    "bouffe[\"alim_ssgrp_nom_fr\"] = bouffe[\"alim_ssgrp_nom_fr\"].apply(normalize_text)"
   ]
  },
  {
   "cell_type": "code",
   "execution_count": 302,
   "id": "87e61eb9-e685-4803-8c27-83f4b418f47d",
   "metadata": {},
   "outputs": [
    {
     "data": {
      "text/plain": [
       "{'-',\n",
       " 'abats',\n",
       " 'agneau et mouton',\n",
       " 'autres desserts',\n",
       " 'autres fromages et spécialités',\n",
       " 'autres spécialités charcutières',\n",
       " 'autres viandes',\n",
       " 'biscottes et pains grillés',\n",
       " 'bières et cidres',\n",
       " 'boissons rafraîchissantes lactées',\n",
       " 'boissons rafraîchissantes sans alcool',\n",
       " 'boissons végétales',\n",
       " 'boissons à reconstituer',\n",
       " 'bœuf et veau',\n",
       " 'café, thé, cacao etc. prêts à consommer',\n",
       " 'cocktails',\n",
       " 'compotes et assimilés',\n",
       " 'desserts lactés',\n",
       " 'desserts végétaux',\n",
       " 'dinde',\n",
       " 'fromage fondus',\n",
       " 'fromages blancs',\n",
       " 'fromages à pâte molle',\n",
       " 'fromages à pâte persillée',\n",
       " 'fromages à pâte pressée',\n",
       " 'fruits appertisés',\n",
       " 'fruits crus',\n",
       " 'fruits et leurs produits de la Martinique',\n",
       " 'fruits et leurs produits de la Réunion',\n",
       " 'fruits séchés',\n",
       " 'gibier',\n",
       " 'herbes fraîches',\n",
       " 'herbes séchées',\n",
       " 'jambons cuits',\n",
       " 'jambons secs et crus',\n",
       " 'jus',\n",
       " 'laits autres que de vache',\n",
       " 'laits de vache concentrés ou en poudre',\n",
       " 'laits de vaches liquides (non concentrés)',\n",
       " 'liqueurs et alcools',\n",
       " 'légumes crus',\n",
       " 'légumes cuits',\n",
       " 'légumes et leurs produits de la Martinique',\n",
       " 'légumes et leurs produits de la Réunion',\n",
       " 'légumes séchés ou déshydratés',\n",
       " 'légumineuses cuites',\n",
       " 'légumineuses fraîches',\n",
       " 'légumineuses sèches',\n",
       " nan,\n",
       " 'nectars',\n",
       " 'omelettes et autres ovoproduits',\n",
       " 'pains',\n",
       " 'plats de céréales/pâtes',\n",
       " 'plats de fromage',\n",
       " 'plats de légumes/légumineuses',\n",
       " 'plats de poisson et féculents',\n",
       " 'plats de poisson sans garniture',\n",
       " 'plats de viande et féculents',\n",
       " 'plats de viande et légumes/légumineuses',\n",
       " 'plats de viande sans garniture',\n",
       " 'plats végétariens',\n",
       " 'porc',\n",
       " 'poulet',\n",
       " 'pâtes, riz et céréales crus',\n",
       " 'pâtes, riz et céréales cuits',\n",
       " 'pâtés et terrines',\n",
       " 'quenelles',\n",
       " 'rillettes',\n",
       " 'sauces chaudes',\n",
       " 'sauces condimentaires',\n",
       " 'sauces sucrées',\n",
       " 'saucisses et assimilés',\n",
       " 'saucisson secs',\n",
       " 'substituts de charcuteries pour végétariens',\n",
       " 'substituts de fromages pour végétariens',\n",
       " 'vins',\n",
       " 'yaourts et spécialités laitières type yaourt',\n",
       " 'œufs crus',\n",
       " 'œufs cuits'}"
      ]
     },
     "execution_count": 302,
     "metadata": {},
     "output_type": "execute_result"
    }
   ],
   "source": [
    "set(bouffe[\"alim_ssssgrp_nom_fr\"])"
   ]
  },
  {
   "cell_type": "code",
   "execution_count": 8,
   "id": "05de06ce-bcbd-4b22-bb9c-d8a88624888a",
   "metadata": {},
   "outputs": [
    {
     "data": {
      "text/plain": [
       "0                               dessert aliment moyen\n",
       "1                          salad thon legum appertise\n",
       "2               salad compose viand poisson appertise\n",
       "3                        champignon a grecqu appertis\n",
       "4                         salad pomm terr fait maison\n",
       "                            ...                      \n",
       "3181           dessert lact infantil natur sucr fruit\n",
       "3182    cereal instantane poudr a reconstitu 4 6 mois\n",
       "3183      cereal instantane poudr a reconstitu 6 mois\n",
       "3184                                      biscuit beb\n",
       "3185                                poudr cacaote beb\n",
       "Name: alim_nom_fr, Length: 3186, dtype: object"
      ]
     },
     "execution_count": 8,
     "metadata": {},
     "output_type": "execute_result"
    }
   ],
   "source": [
    "descriptions"
   ]
  },
  {
   "cell_type": "code",
   "execution_count": 256,
   "id": "9c477a15-915d-4504-b987-838dc5252c74",
   "metadata": {},
   "outputs": [],
   "source": [
    "def words_in_column(bouffe, prod, col):\n",
    "    mask = pd.Series([True for i in range(bouffe.shape[0])])\n",
    "    for word in prod.split(\" \"):\n",
    "        mask = mask & bouffe[col].str.contains(word)\n",
    "    return bouffe.loc[mask]"
   ]
  },
  {
   "cell_type": "code",
   "execution_count": 290,
   "id": "091f2c3e-1bc0-460f-bcae-2fb38e4b5c04",
   "metadata": {},
   "outputs": [],
   "source": [
    "def food_matcher(nom_aliment):\n",
    "    prod = normalize_text(nom_aliment)\n",
    "    products_fit = words_in_column(bouffe, prod, 'alim_nom_fr')\n",
    "    print(f\"size products {products_fit.shape[0]}\")\n",
    "    shorter_description_sample = products_fit[\"alim_nom_fr\"].apply(len).sort_values()[:10].index\n",
    "    print(shorter_description_sample)\n",
    "    ten_shorter_des_match = bouffe.loc[shorter_description_sample]\n",
    "    print(ten_shorter_des_match[\"alim_ssgrp_nom_fr\"].value_counts())\n",
    "    best_cat = ten_shorter_des_match[\"alim_ssgrp_nom_fr\"].value_counts().index[0]\n",
    "    if best_cat == \"nan\":\n",
    "        best_cat = ten_shorter_des_match[\"alim_ssgrp_nom_fr\"].value_counts().index[1]\n",
    "    ten_shorter_des_match = ten_shorter_des_match.loc[ten_shorter_des_match[\"alim_ssgrp_nom_fr\"]==best_cat]\n",
    "    best_bet = ten_shorter_des_match.iloc[0]\n",
    "    print(f\"Best match : {best_bet['alim_nom_fr']} \\nBest cat : {best_cat}\")\n",
    "    return best_bet"
   ]
  },
  {
   "cell_type": "code",
   "execution_count": 296,
   "id": "fc5ec758-94f2-4247-8cce-1dc0ed510b6f",
   "metadata": {},
   "outputs": [
    {
     "name": "stdout",
     "output_type": "stream",
     "text": [
      "size products 21\n",
      "Int64Index([352, 598, 481, 3016, 440, 441, 437, 248, 2973, 119], dtype='int64')\n",
      "légumes                            6\n",
      "condiments                         1\n",
      "pizzas, tartes et crêpes salées    1\n",
      "sauces                             1\n",
      "plats composés                     1\n",
      "Name: alim_ssgrp_nom_fr, dtype: int64\n",
      "Best match : oignon cru \n",
      "Best cat : légumes\n"
     ]
    },
    {
     "data": {
      "text/plain": [
       "alim_grp_code                                                                              2\n",
       "alim_ssgrp_code                                                                          201\n",
       "alim_ssssgrp_code                                                                      20101\n",
       "alim_grp_nom_fr                                  fruits, légumes, légumineuses et oléagineux\n",
       "alim_ssgrp_nom_fr                                                                    légumes\n",
       "                                                                    ...                     \n",
       "Vitamine B3 ou PP ou Niacine (mg/100 g)                                               < 0,05\n",
       "Vitamine B5 ou Acide pantothénique (mg/100 g)                                           0,15\n",
       "Vitamine B6 (mg/100 g)                                                                   0,1\n",
       "Vitamine B9 ou Folates totaux (µg/100 g)                                                29,6\n",
       "Vitamine B12 (µg/100 g)                                                                    0\n",
       "Name: 352, Length: 76, dtype: object"
      ]
     },
     "execution_count": 296,
     "metadata": {},
     "output_type": "execute_result"
    }
   ],
   "source": [
    "food_matcher(\"oignon\")"
   ]
  },
  {
   "cell_type": "code",
   "execution_count": null,
   "id": "5aeb0870-c0fb-47be-88d4-c96852cdb26c",
   "metadata": {},
   "outputs": [],
   "source": []
  }
 ],
 "metadata": {
  "kernelspec": {
   "display_name": "Python 3 (ipykernel)",
   "language": "python",
   "name": "python3"
  },
  "language_info": {
   "codemirror_mode": {
    "name": "ipython",
    "version": 3
   },
   "file_extension": ".py",
   "mimetype": "text/x-python",
   "name": "python",
   "nbconvert_exporter": "python",
   "pygments_lexer": "ipython3",
   "version": "3.9.7"
  }
 },
 "nbformat": 4,
 "nbformat_minor": 5
}
